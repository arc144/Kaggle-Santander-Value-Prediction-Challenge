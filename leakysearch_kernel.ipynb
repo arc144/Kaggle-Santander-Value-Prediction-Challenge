{
 "cells": [
  {
   "cell_type": "markdown",
   "metadata": {
    "_cell_guid": "b1076dfc-b9ad-4769-8c92-a6c4dae69d19",
    "_uuid": "8f2839f25d086af736a60e9eeb907d3b93b6e0e5",
    "collapsed": true
   },
   "source": [
    "## Giba's Property\n",
    "\n",
    "- https://www.kaggle.com/titericz/the-property-by-giba (kernel)\n",
    "- https://www.kaggle.com/c/santander-value-prediction-challenge/discussion/61329 (post)\n",
    "\n",
    "#### This kernel is just to extend giba's result in a *stupid* brute-force way\n",
    "### The updated part is based on [S D's comment](https://www.kaggle.com/johnfarrell/giba-s-property-extended-result/notebook#358945)"
   ]
  },
  {
   "cell_type": "code",
   "execution_count": 1,
   "metadata": {
    "_uuid": "224ce4a65b5b0b0f795d726ae603354d3f193149"
   },
   "outputs": [],
   "source": [
    "%matplotlib inline\n",
    "import os\n",
    "import gc\n",
    "import numpy as np\n",
    "import pandas as pd\n",
    "import seaborn as sns\n",
    "import matplotlib.pyplot as plt\n",
    "from tqdm import tqdm\n",
    "# DATA_DIR = '../input/'\n",
    "\n",
    "hex2dec = lambda x: int(x, 16)"
   ]
  },
  {
   "cell_type": "code",
   "execution_count": 31,
   "metadata": {
    "_cell_guid": "79c7e3d0-c299-4dcb-8224-4455121ee9b0",
    "_uuid": "d629ff2d2480ee46fbb7e2d37f6b5fab8052498a"
   },
   "outputs": [],
   "source": [
    "train = pd.read_csv('train.csv')"
   ]
  },
  {
   "cell_type": "code",
   "execution_count": 19,
   "metadata": {},
   "outputs": [
    {
     "data": {
      "text/plain": [
       "1563411.76"
      ]
     },
     "execution_count": 19,
     "metadata": {},
     "output_type": "execute_result"
    }
   ],
   "source": [
    "train.iloc[1383, :]['e176a204a']\n",
    "# train[train == 1563411.76].count(axis=0).sort_values()"
   ]
  },
  {
   "cell_type": "code",
   "execution_count": 38,
   "metadata": {},
   "outputs": [
    {
     "name": "stdout",
     "output_type": "stream",
     "text": [
      "To String...\n",
      "rounding...\n"
     ]
    },
    {
     "name": "stderr",
     "output_type": "stream",
     "text": [
      "/home/eduardo/anaconda3/envs/tensorflow-gpu/lib/python3.6/site-packages/pandas/core/indexing.py:537: SettingWithCopyWarning: \n",
      "A value is trying to be set on a copy of a slice from a DataFrame.\n",
      "Try using .loc[row_indexer,col_indexer] = value instead\n",
      "\n",
      "See the caveats in the documentation: http://pandas.pydata.org/pandas-docs/stable/indexing.html#indexing-view-versus-copy\n",
      "  self.obj[item] = s\n"
     ]
    },
    {
     "name": "stdout",
     "output_type": "stream",
     "text": [
      "                                               features\n",
      "0     0  0 0 0 0 0    0 0 0 0  0  0 0  0 0  0 0 0  0...\n",
      "1     0  0 0 0 0 0 2200000.0   0 0 0 0  0  0 0  0 0 ...\n",
      "2     0  0 0 0 0 0    0 0 0 0  0  0 0  0 0  0 0 0  0...\n",
      "3     0  0 0 0 0 0    0 0 0 0  0  0 0  0 0  0 0 0  0...\n",
      "4     0  0 0 0 0 0 2000000.0   0 0 0 0  0  0 0  0 0 ...\n",
      "5     0  0 0 0 0 0 17020000.0  8000.0 0 0 0 0  0 500...\n",
      "6     0  0 0 0 0 0    0 0 0 0  0  0 0  0 0  0 0 0  0...\n",
      "7     0  0 0 0 0 0    0 0 0 0  0  0 0  0 0  0 0 0  0...\n",
      "8     0  0 0 0 0 0 58000.0   0 0 22000 0  0  0 0  0 ...\n",
      "9     0  0 0 0 0 0    0 0 0 0  0  0 0  0 0  0 0 0  0...\n",
      "10    0  0 0 0 0 0    0 0 0 0  0  0 0  0 0  0 0 0  0...\n",
      "11    0  0 0 0 0 0    0 0 0 0  0  0 0  0 0  0 0 0  0...\n",
      "12    0  0 0 0 0 0    0 0 0 0  0  0 0  0 0  0 0 0  0...\n",
      "13    0  0 0 0 0 0    0 0 5000000 0  0  0 0  0 0  0 ...\n",
      "14    0  0 0 0 0 0    0 0 0 0  0  0 0  0 0  0 0 0  0...\n",
      "15    0  0 0 0 0 0    0 0 0 0  0  0 0  0 0  0 0 0  0...\n",
      "16    0  0 0 0 0 0 7000.0   0 0 0 0  0  0 0  0 0  0 ...\n",
      "17    0  0 0 0 0 0    0 0 1200000 0  0  0 0  0 0  0 ...\n",
      "18    0  0 0 0 0 0    0 0 0 0  0  0 0  0 0  0 0 0  0...\n",
      "19    0  0 0 0 0 0    0 0 0 0  0  0 0  0 0  0 0 0  0...\n",
      "20    0  0 0 0 0 0    0 0 0 0  0  0 0  0 0  0 0 0  0...\n",
      "21    0  0 0 0 0 0    0 0 0 0  0  0 0  0 0  0 0 0  0...\n",
      "22    0  0 0 0 0 0 3422500.0   0 0 3320000 0  0  0 0...\n",
      "23    0  0 0 0 0 0 3069000.0   0 0 0 0  0  0 0  0 0 ...\n",
      "24    0  0 0 0 0 0    0 0 0 0  0  0 0  0 0  0 0 0  0...\n",
      "25    0  0 0 0 0 0    0 0 0 0  0  0 0  0 0  0 0 0  0...\n",
      "26    0  0 0 0 0 0    0 0 0 0  0  0 0  0 0  0 0 0  0...\n",
      "27    0  0 0 0 0 0    0 0 0 0  0  0 0  0 0  0 0 0  0...\n",
      "28    0  0 0 0 0 0    0 0 0 0  0  0 0  0 0  0 0 0  0...\n",
      "29    0  0 0 0 0 0    0 0 0 0  0  0 0  0 0  0 0 0  0...\n",
      "...                                                 ...\n",
      "4429  0  0 0 0 0 0    0 0 0 0  0  0 300000  0 0  0 0...\n",
      "4430  0  0 0 0 0 0    0 0 0 0  0  0 0  0 0  0 0 0  0...\n",
      "4431  0  0 0 0 0 0 10050000.0   0 0 0 0  0  0 0  0 0...\n",
      "4432  0  0 0 0 0 0    0 0 0 0  0  0 0  0 0  0 0 0  0...\n",
      "4433  0  0 0 0 0 0 10000000.0 2800000.0  0 0 0 0  0 ...\n",
      "4434  0  0 0 0 0 0 66000.0   0 0 0 0  0 390000.0 0 0...\n",
      "4435  0  0 0 0 0 0    0 0 150000 0  0  0 0  0 0  0 0...\n",
      "4436  0  0 0 0 0 0    0 0 0 0  0  0 0  0 0  0 0 0 30...\n",
      "4437  0  0 0 0 0 0    0 0 0 0  0  0 0  0 0  0 0 0  0...\n",
      "4438  0  0 0 0 0 0 600000.0   0 0 0 0  0  0 0  0 0  ...\n",
      "4439  0  0 0 0 0 0 6000000.0   0 0 0 0  0  0 0  0 0 ...\n",
      "4440  0  0 0 0 0 0    0 0 0 0  0  0 0  0 0  0 0 0  0...\n",
      "4441  0  0 0 0 0 0    0 0 0 0  0  0 0  0 0  0 0 0  0...\n",
      "4442  0  0 0 0 0 0 2000000.0   0 0 0 0  0  0 0  0 0 ...\n",
      "4443  0  0 0 0 0 0 2352551.72  4434140.0 0 0 4460000...\n",
      "4444  0  0 0 0 0 0    0 0 0 0  0 600000.0 0 0  0 0  ...\n",
      "4445  0  0 0 0 0 0    0 0 0 0  0  0 0  0 0  0 0 0  0...\n",
      "4446  0  0 0 0 0 0 10000000.0   0 0 0 0  0  0 0  0 0...\n",
      "4447  0  0 0 0 0 0    0 0 0 0  0  0 0  0 0  0 0 0  0...\n",
      "4448  0  0 0 0 0 0 6000000.0   0 0 0 0  0  0 0  0 0 ...\n",
      "4449  0  0 0 0 0 0    0 0 0 0  0  0 0  0 0  0 0 0  0...\n",
      "4450  0  0 0 0 0 0    0 0 0 0  0  0 0  0 0  0 0 0  0...\n",
      "4451  0  0 0 0 0 0    0 0 0 0  0  0 0  0 0  0 0 0  0...\n",
      "4452  0  0 0 0 0 0    0 0 0 0  0  0 0  0 0  0 0 0  0...\n",
      "4453  0  0 0 0 0 0    0 0 0 0  0  0 0  0 0  0 0 0  0...\n",
      "4454  0  0 0 0 0 0 70000.0   0 0 6000000 0  0  0 0  ...\n",
      "4455  0  0 0 0 0 0 375000.0   0 0 0 0  0  0 0  0 0  ...\n",
      "4456  0  0 0 0 0 0    0 0 0 0  0  0 0  0 0  0 0 0  0...\n",
      "4457  0  0 0 0 0 0    0 0 0 0  0  0 0  0 0  0 0 0  0...\n",
      "4458  0  0 0 0 0 0 20000000.0   0 0 0 0  0  0 0  0 0...\n",
      "\n",
      "[4459 rows x 1 columns]\n",
      "CPU times: user 4min 5s, sys: 93.5 ms, total: 4min 5s\n",
      "Wall time: 4min 5s\n"
     ]
    }
   ],
   "source": [
    "%%time\n",
    "print(\"To String...\")\n",
    "X = train[train.columns.drop(['ID','target'])] # only get \"X\" vectort\n",
    "\n",
    "print(\"rounding...\")\n",
    "for i in X.columns:\n",
    "    X.loc[:, i] = np.round(X[i] , decimals=3)\n",
    "    \n",
    "tmp = X[X.columns[0]].apply(str)\n",
    "tmp[tmp=='0.0'] = ''\n",
    "CV = pd.DataFrame()\n",
    "CV['features'] = tmp\n",
    "\n",
    "for feat in X.columns[1:]:\n",
    "    tmp = X[feat].apply(str)\n",
    "    tmp[ tmp=='0.0' ] = ''\n",
    "    CV['features'] = CV['features'] + tmp + ' '\n",
    "\n",
    "gc.collect()\n",
    "print(CV)"
   ]
  },
  {
   "cell_type": "code",
   "execution_count": 65,
   "metadata": {},
   "outputs": [
    {
     "name": "stdout",
     "output_type": "stream",
     "text": [
      "(4459, 8091)\n",
      "CPU times: user 2.05 s, sys: 3.36 ms, total: 2.06 s\n",
      "Wall time: 2.06 s\n"
     ]
    }
   ],
   "source": [
    "%%time\n",
    "from sklearn.feature_extraction.text import CountVectorizer, TfidfVectorizer\n",
    "\n",
    "rd = TfidfVectorizer(lowercase=True, ngram_range=(1, 1), max_df=0.99, min_df=2, use_idf=False)\n",
    "words = rd.fit_transform(CV['features'])\n",
    "\n",
    "print(words.shape)"
   ]
  },
  {
   "cell_type": "code",
   "execution_count": 67,
   "metadata": {},
   "outputs": [
    {
     "data": {
      "text/plain": [
       "<4459x8091 sparse matrix of type '<class 'numpy.float64'>'\n",
       "\twith 302177 stored elements in Compressed Sparse Row format>"
      ]
     },
     "execution_count": 67,
     "metadata": {},
     "output_type": "execute_result"
    }
   ],
   "source": [
    "words"
   ]
  },
  {
   "cell_type": "code",
   "execution_count": null,
   "metadata": {
    "_uuid": "84489969a56ef225b9aea7d33e28823ea8991a05"
   },
   "outputs": [],
   "source": [
    "cols = [\n",
    "    \"f190486d6\",\"58e2e02e6\",\"eeb9cd3aa\",\"9fd594eec\",\"6eef030c1\",\"15ace8c9f\",\n",
    "    \"fb0f5dbfe\",\"58e056e12\",\"20aa07010\",\"024c577b9\",\"d6bb78916\",\n",
    "    \"b43a7cfd5\",\"58232a6fb\"\n",
    "]\n",
    "\n",
    "# cols = ['f190486d6', '58e2e02e6', 'eeb9cd3aa', '9fd594eec', '6eef030c1', '15ace8c9f', \n",
    "#         'fb0f5dbfe', '58e056e12', '20aa07010', '024c577b9', 'd6bb78916', 'b43a7cfd5', \n",
    "#         '58232a6fb', '1702b5bf0', '324921c7b', '62e59a501', '2ec5b290f', '241f0f867', \n",
    "#         'fb49e4212', '66ace2992', 'f74e8f13d', '5c6487af1', '963a49cdc', '26fc93eb7', \n",
    "#         '1931ccfdd', '703885424', '70feb1494', '491b9ee45', '23310aa6f', 'e176a204a', \n",
    "#         '6619d81fc', '1db387535', \n",
    "#         'fc99f9426',\n",
    "#         '91f701ba2', '0572565c2', '190db8488', 'adb64ff71', 'c47340d97', 'c5a231d81', '0ff32eb98'\n",
    "#        ]\n",
    "rows = np.array([2072,3493,379,2972,2367,4415,2791,3980,194,1190,3517,811,4444])-1"
   ]
  },
  {
   "cell_type": "markdown",
   "metadata": {
    "_uuid": "aefbbe2a606ef017ca1eab28bf6f5a63b5742ae8"
   },
   "source": [
    "### The original result"
   ]
  },
  {
   "cell_type": "code",
   "execution_count": null,
   "metadata": {
    "_uuid": "0b43133942747c28d646ccc83adee1565f8fb31e"
   },
   "outputs": [],
   "source": [
    "tmp = train.loc[rows, [\"ID\",\"target\"]+cols]\n",
    "print('original shape', tmp.shape)\n",
    "tmp"
   ]
  },
  {
   "cell_type": "markdown",
   "metadata": {
    "_uuid": "bc3c29d7b03a6a8088edcbe1c0572be5fd56ba56"
   },
   "source": [
    "### Search in a brute-force way"
   ]
  },
  {
   "cell_type": "code",
   "execution_count": null,
   "metadata": {
    "_uuid": "808f00527f9534a959d8f9fdee8a4f32f882ea18"
   },
   "outputs": [],
   "source": [
    "def bf_search(df_new, df_cand):\n",
    "    cnt = 0\n",
    "    head_curr = df_new.values[1:, 0]\n",
    "    tail_curr = df_new.values[:-1, -1]\n",
    "    while True:\n",
    "        for c in df_cand.columns:\n",
    "            if c in df_new:\n",
    "                continue\n",
    "            elif np.all(\n",
    "                df_cand[c].iloc[:-1].values==head_curr\n",
    "            ) and len(df_cand[c].unique())>1:\n",
    "                df_new.insert(0, c, df_cand[c].values)\n",
    "                head_curr = df_new.values[1:, 0]\n",
    "                print(c, 'found head!', 'new shape', df_new.shape)\n",
    "                cnt += 1\n",
    "                break\n",
    "            elif np.all(\n",
    "                df_cand[c].iloc[1:].values==tail_curr\n",
    "            ) and len(df_cand[c].unique())>1:\n",
    "                df_new[c] = df_cand[c].values\n",
    "                tail_curr = df_new.values[:-1, -1]\n",
    "                print(c, 'found tail!', 'new shape', df_new.shape)\n",
    "                cnt += 1\n",
    "                break\n",
    "            else:\n",
    "                continue\n",
    "        if cnt==0:\n",
    "            break\n",
    "        else:\n",
    "            cnt = 0\n",
    "            continue\n",
    "    return df_new\n",
    "\n",
    "\n",
    "def row_bf_search(df_new):\n",
    "    df_new = df_new.T.copy()\n",
    "    df_cand_row = train[df_new.index].T.copy()\n",
    "    print('Row searching ...')\n",
    "    df_new = bf_search(df_new, df_cand_row)\n",
    "    df_new = df_new.T.copy()\n",
    "    return df_new\n",
    "def column_bf_search(df_new):\n",
    "    df_cand_col = train.loc[df_new.index, :]\n",
    "    df_cand_col = df_cand_col.iloc[:, 2:]\n",
    "    print('Column searching ...')\n",
    "    df_new = bf_search(df_new, df_cand_col)\n",
    "    return df_new"
   ]
  },
  {
   "cell_type": "code",
   "execution_count": null,
   "metadata": {},
   "outputs": [],
   "source": [
    "df_new = column_bf_search(df_new)\n",
    "df_new = row_bf_search(df_new)"
   ]
  },
  {
   "cell_type": "code",
   "execution_count": null,
   "metadata": {},
   "outputs": [],
   "source": [
    "df_new"
   ]
  },
  {
   "cell_type": "markdown",
   "metadata": {
    "_uuid": "c3606fe7f58cb9e7563630dcc051bf7f6fde883f"
   },
   "source": [
    "## There's a strange long tail of number ***1563411.76*** pointed out by [S D](https://www.kaggle.com/johnfarrell/giba-s-property-extended-result/comments#358945)\n",
    "## Thanks [S D](https://www.kaggle.com/sdoria) for this new idea!\n",
    "## Let's check it"
   ]
  },
  {
   "cell_type": "code",
   "execution_count": null,
   "metadata": {
    "_uuid": "7f7aff2a9f91e1afa813a7932f8b622a5465a867",
    "scrolled": false
   },
   "outputs": [],
   "source": [
    "for i, c in enumerate(df_new.columns):\n",
    "    print(\n",
    "        'No.', i, 'Column Name', c, \n",
    "        'subset count',\n",
    "        (df_new[c].values==1563411.76).sum(), \n",
    "        'train count',\n",
    "        (train[c].values==1563411.76).sum()\n",
    "    )"
   ]
  },
  {
   "cell_type": "code",
   "execution_count": null,
   "metadata": {
    "_uuid": "30efb919a57d62ef9ba4388575c2bfcf8b9e73d9"
   },
   "outputs": [],
   "source": [
    "res_cnt = dict((c, (train[c].values==1563411.76).sum()) for c in train.columns[2:])\n",
    "res_cnt = pd.DataFrame.from_dict(res_cnt, orient='index', columns=['strange_number_cnt'])\n",
    "res_cnt = res_cnt.sort_values('strange_number_cnt', 0, False)\n",
    "res_cnt.head(50).T"
   ]
  },
  {
   "cell_type": "code",
   "execution_count": null,
   "metadata": {
    "_uuid": "8f411ac7f4de747423c20fb86f057b18ca5ec8f6"
   },
   "outputs": [],
   "source": [
    "res_cnt.head(10)"
   ]
  },
  {
   "cell_type": "markdown",
   "metadata": {
    "_uuid": "744f2c1a6127f88fb4d126cad178d532d20ad8aa"
   },
   "source": [
    "## Sad... there are *2* columns with the same count 30!\n",
    "- 91f701ba2\n",
    "- fc99f9426\n",
    "\n",
    "## What about the row-wise?"
   ]
  },
  {
   "cell_type": "code",
   "execution_count": null,
   "metadata": {
    "_uuid": "fa7ceab104ade0417d088051886d92d8065e16be",
    "scrolled": false
   },
   "outputs": [],
   "source": [
    "for i, c in enumerate(df_new.T.columns):\n",
    "    print(\n",
    "        'No.', i, 'Row Name', c, \n",
    "        'subset count',\n",
    "        (df_new.T[c].values==1563411.76).sum(), \n",
    "        'train count',\n",
    "        (train.T[c].values==1563411.76).sum()\n",
    "    )"
   ]
  },
  {
   "cell_type": "code",
   "execution_count": null,
   "metadata": {
    "_uuid": "2cf61852c9cecad5662dc73b98070594780e23a4"
   },
   "outputs": [],
   "source": [
    "tmp = train.iloc[:, 2:].values\n",
    "res_t_cnt = dict((idx, (tmp[i, :]==1563411.76).sum()) for i,idx in enumerate(train.index))\n",
    "res_t_cnt = pd.DataFrame.from_dict(res_t_cnt, orient='index', columns=['strange_number_cnt'])\n",
    "res_t_cnt = res_t_cnt.sort_values('strange_number_cnt', 0, False)\n",
    "res_t_cnt.head(50).T"
   ]
  },
  {
   "cell_type": "markdown",
   "metadata": {
    "_uuid": "c643f93aeaef03ec37ed1d064e2f20ea94c24c33"
   },
   "source": [
    "## Hmm, seems no same values. OK, we start from rows!"
   ]
  },
  {
   "cell_type": "code",
   "execution_count": null,
   "metadata": {
    "_uuid": "3f3a91a7083bb2391f09f1ea862ba162fc8e8fb0"
   },
   "outputs": [],
   "source": [
    "head_row_indexes = res_t_cnt[res_t_cnt['strange_number_cnt']>24].index.tolist()\n",
    "head_row_indexes"
   ]
  },
  {
   "cell_type": "code",
   "execution_count": null,
   "metadata": {
    "_uuid": "ef08ad91c449ee6c191e264c1705cda6f26f49ed",
    "scrolled": false
   },
   "outputs": [],
   "source": [
    "mask = res_t_cnt['strange_number_cnt']>0 \n",
    "mask&=res_t_cnt['strange_number_cnt']<8\n",
    "tail_row_indexes = res_t_cnt.loc[mask].index.tolist()\n",
    "tail_row_indexes"
   ]
  },
  {
   "cell_type": "code",
   "execution_count": null,
   "metadata": {
    "_uuid": "51eb81819211349641b13320ae09c6863d09e292"
   },
   "outputs": [],
   "source": [
    "pd.concat([\n",
    "    train.loc[head_row_indexes, ['target']+df_new.columns.tolist()], \n",
    "    train.loc[df_new.index, ['target']+df_new.columns.tolist()],\n",
    "    train.loc[tail_row_indexes, ['target']+df_new.columns.tolist()], \n",
    "])"
   ]
  },
  {
   "cell_type": "markdown",
   "metadata": {
    "_uuid": "67b2c9fe4c935700ccf36f285de1258ac8caf847"
   },
   "source": [
    "## Good! This is our new df_new and we got to search once more!"
   ]
  },
  {
   "cell_type": "code",
   "execution_count": null,
   "metadata": {
    "_uuid": "2e82261c8f8d74f4acd2b36d2309b2fc908451b0"
   },
   "outputs": [],
   "source": [
    "df_new = pd.concat([\n",
    "    train.loc[head_row_indexes, df_new.columns.tolist()], \n",
    "    train.loc[df_new.index, df_new.columns.tolist()],\n",
    "    train.loc[tail_row_indexes, df_new.columns.tolist()], \n",
    "])"
   ]
  },
  {
   "cell_type": "code",
   "execution_count": null,
   "metadata": {
    "_uuid": "838577c1b0d5fffdcfdeb49fa932b19567519cdc"
   },
   "outputs": [],
   "source": [
    "df_new = column_bf_search(df_new)"
   ]
  },
  {
   "cell_type": "code",
   "execution_count": null,
   "metadata": {
    "_uuid": "050ab916e42970b22452d27cc962d45addeed080"
   },
   "outputs": [],
   "source": [
    "df_new = row_bf_search(df_new)"
   ]
  },
  {
   "cell_type": "markdown",
   "metadata": {
    "_uuid": "e5617bd5b16d0761f45e32a53dbac2f3717cf356"
   },
   "source": [
    "## No good... But wait! Let's check it!\n",
    "### Here, we still can't identify the true order of the columns with the same count 30\n",
    "### Just for example take a look at 'fc99f9426','91f701ba2' at first\n",
    "### We add 'fc99f9426','91f701ba2' and the first 6 columns with count 31~36"
   ]
  },
  {
   "cell_type": "code",
   "execution_count": null,
   "metadata": {
    "_uuid": "6888e6d0946d3fa4d9871353c073483589b07342"
   },
   "outputs": [],
   "source": [
    "res_cnt[:10]"
   ]
  },
  {
   "cell_type": "code",
   "execution_count": null,
   "metadata": {
    "_uuid": "fa2ccddedeca94c5a10fbc7f6f3ef8b155567aca"
   },
   "outputs": [],
   "source": [
    "train.loc[df_new.index, ['target']+df_new.columns.tolist()+['fc99f9426','91f701ba2'] + res_cnt.index.values[:6].tolist()[::-1]]"
   ]
  },
  {
   "cell_type": "markdown",
   "metadata": {
    "_uuid": "75127d72c71d0a3f20b2279e61cede9469a0f457"
   },
   "source": [
    "## Hmm, seems something is wrong\n",
    "### at column: ['1db387535', 'fc99f9426','91f701ba2']\n",
    "### from ~last 10 rows"
   ]
  },
  {
   "cell_type": "code",
   "execution_count": null,
   "metadata": {
    "_uuid": "e2622d3c3ad8ce22bba526c9a5aa401f7a5abfec"
   },
   "outputs": [],
   "source": [
    "train.loc[df_new.index[-10:], df_new.columns.tolist()[-2:]+['fc99f9426', '91f701ba2'] + res_cnt.index.values[:6].tolist()[::-1]]"
   ]
  },
  {
   "cell_type": "markdown",
   "metadata": {
    "_uuid": "aac2c7911b8b7e57ece668372e9479baa5ea83d6"
   },
   "source": [
    "### Check the table above\n",
    "### Seems 540000.00 disappeared from column '1db387535'\n",
    "###      And 1015000.00\t disappeared from column 'fc99f9426'\n",
    "### Thus the time series is becoming not *serious* from here...\n",
    "### Another question, what about the order of 'fc99f9426','91f701ba2'? Which's first?"
   ]
  },
  {
   "cell_type": "code",
   "execution_count": null,
   "metadata": {
    "_uuid": "d1f60abbba782a3b1fbb3e788b1e0dea6e663091"
   },
   "outputs": [],
   "source": [
    "train.loc[df_new.index[:8], ['f190486d6', '58e2e02e6']].T"
   ]
  },
  {
   "cell_type": "code",
   "execution_count": null,
   "metadata": {
    "_uuid": "7c5f1fcacdf35d7d1a67ced3a26cd68eb53b1b50"
   },
   "outputs": [],
   "source": [
    "train.loc[df_new.index[-2:], df_new.columns.tolist()[-2:]+['fc99f9426', '91f701ba2']+res_cnt.index.values[:6].tolist()[::-1]]"
   ]
  },
  {
   "cell_type": "markdown",
   "metadata": {
    "_uuid": "512356dfa6ebadefd8423122c381a89f24c6e867"
   },
   "source": [
    "### From row values (in reverse order), it seems 'fc99f9426', '91f701ba2' is consistent with other columns \n",
    "### Thus, in our limited analysis, the new df_new is"
   ]
  },
  {
   "cell_type": "code",
   "execution_count": null,
   "metadata": {
    "_uuid": "3c47549cdb10d1d5108050fa4d6b7d517fa62975"
   },
   "outputs": [],
   "source": [
    "df_new_new = train.loc[df_new.index, df_new.columns.tolist()+['fc99f9426','91f701ba2'] + res_cnt.index.values[:6].tolist()[::-1]]\n",
    "df_new_new.shape"
   ]
  },
  {
   "cell_type": "code",
   "execution_count": null,
   "metadata": {
    "_uuid": "7223184371f292a47e9de95d91b8625dfc5ba708"
   },
   "outputs": [],
   "source": [
    "print(f'Row indexes({df_new_new.shape[0]})\\n', df_new_new.index.values.tolist())\n",
    "print(f'Column indexes({df_new_new.shape[1]})\\n', df_new_new.columns.values.tolist())"
   ]
  },
  {
   "cell_type": "code",
   "execution_count": null,
   "metadata": {
    "_uuid": "f6713de5e1713e0155d17a3cf3803866d390dec4"
   },
   "outputs": [],
   "source": [
    "train.loc[df_new_new.index, ['ID', 'target']+df_new_new.columns.tolist()]"
   ]
  },
  {
   "cell_type": "markdown",
   "metadata": {
    "_uuid": "84a6c5e1e4d6d1b8d73b531c25b46abf9acbc31f"
   },
   "source": [
    "### For the final result consist many uncertains and hypothesis\n",
    "### Be careful of using this !!!\n",
    "### Any comments and advices are welcome !!!\n",
    "### Please point out if there's something wrong!!!"
   ]
  },
  {
   "cell_type": "code",
   "execution_count": null,
   "metadata": {
    "_uuid": "2c37adc49983d313dcc5612e7e8eede25a8f3d0c"
   },
   "outputs": [],
   "source": []
  },
  {
   "cell_type": "code",
   "execution_count": null,
   "metadata": {
    "_uuid": "459129a819e4e7ddc0354ed7b4116b8dd65d4425"
   },
   "outputs": [],
   "source": []
  }
 ],
 "metadata": {
  "kernelspec": {
   "display_name": "Python 3",
   "language": "python",
   "name": "python3"
  },
  "language_info": {
   "codemirror_mode": {
    "name": "ipython",
    "version": 3
   },
   "file_extension": ".py",
   "mimetype": "text/x-python",
   "name": "python",
   "nbconvert_exporter": "python",
   "pygments_lexer": "ipython3",
   "version": "3.6.4"
  }
 },
 "nbformat": 4,
 "nbformat_minor": 1
}
